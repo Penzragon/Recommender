{
 "metadata": {
  "language_info": {
   "codemirror_mode": {
    "name": "ipython",
    "version": 3
   },
   "file_extension": ".py",
   "mimetype": "text/x-python",
   "name": "python",
   "nbconvert_exporter": "python",
   "pygments_lexer": "ipython3",
   "version": "3.9.1-final"
  },
  "orig_nbformat": 2,
  "kernelspec": {
   "name": "python3",
   "display_name": "Python 3.9.1 64-bit",
   "metadata": {
    "interpreter": {
     "hash": "aa9e1a1d5fc59c64a36ca54f7d8a22385cd9af1c34966b28ec5cc3b7d8afa19f"
    }
   }
  }
 },
 "nbformat": 4,
 "nbformat_minor": 2,
 "cells": [
  {
   "cell_type": "code",
   "execution_count": 8,
   "metadata": {},
   "outputs": [],
   "source": [
    "import pandas as pd\n",
    "import numpy as np\n",
    "import matplotlib.pyplot as plt\n",
    "import seaborn as sns\n",
    "from scipy import stats\n",
    "from ast import literal_eval\n",
    "from sklearn.feature_extraction.text import TfidfVectorizer, CountVectorizer\n",
    "from sklearn.metrics.pairwise import linear_kernel, cosine_similarity\n",
    "from nltk.stem.snowball import SnowballStemmer\n",
    "from nltk.stem.wordnet import WordNetLemmatizer\n",
    "from nltk.corpus import wordnet\n",
    "from surprise import Reader, Dataset, SVD\n",
    "from surprise.model_selection import cross_validate\n",
    "import warnings; warnings.simplefilter('ignore')"
   ]
  },
  {
   "cell_type": "code",
   "execution_count": 159,
   "metadata": {},
   "outputs": [
    {
     "output_type": "execute_result",
     "data": {
      "text/plain": [
       "   id  book_id  work_id  books_count                      authors  \\\n",
       "0   1  2767052  2792775          272              Suzanne Collins   \n",
       "1   2        3  4640799          491  J.K. Rowling, Mary GrandPré   \n",
       "2   3    41865  3212258          226              Stephenie Meyer   \n",
       "3   4     2657  3275794          487                   Harper Lee   \n",
       "4   5     4671   245494         1356          F. Scott Fitzgerald   \n",
       "\n",
       "   original_publication_year                            original_title  \\\n",
       "0                     2008.0                          The Hunger Games   \n",
       "1                     1997.0  Harry Potter and the Philosopher's Stone   \n",
       "2                     2005.0                                  Twilight   \n",
       "3                     1960.0                     To Kill a Mockingbird   \n",
       "4                     1925.0                          The Great Gatsby   \n",
       "\n",
       "  language_code  average_rating  ratings_count  work_ratings_count  \\\n",
       "0           eng            4.34        4780653             4942365   \n",
       "1           eng            4.44        4602479             4800065   \n",
       "2         en-US            3.57        3866839             3916824   \n",
       "3           eng            4.25        3198671             3340896   \n",
       "4           eng            3.89        2683664             2773745   \n",
       "\n",
       "   work_text_reviews_count  ratings_1  ratings_2  ratings_3  ratings_4  \\\n",
       "0                   155254      66715     127936     560092    1481305   \n",
       "1                    75867      75504     101676     455024    1156318   \n",
       "2                    95009     456191     436802     793319     875073   \n",
       "3                    72586      60427     117415     446835    1001952   \n",
       "4                    51992      86236     197621     606158     936012   \n",
       "\n",
       "   ratings_5  \n",
       "0    2706317  \n",
       "1    3011543  \n",
       "2    1355439  \n",
       "3    1714267  \n",
       "4     947718  "
      ],
      "text/html": "<div>\n<style scoped>\n    .dataframe tbody tr th:only-of-type {\n        vertical-align: middle;\n    }\n\n    .dataframe tbody tr th {\n        vertical-align: top;\n    }\n\n    .dataframe thead th {\n        text-align: right;\n    }\n</style>\n<table border=\"1\" class=\"dataframe\">\n  <thead>\n    <tr style=\"text-align: right;\">\n      <th></th>\n      <th>id</th>\n      <th>book_id</th>\n      <th>work_id</th>\n      <th>books_count</th>\n      <th>authors</th>\n      <th>original_publication_year</th>\n      <th>original_title</th>\n      <th>language_code</th>\n      <th>average_rating</th>\n      <th>ratings_count</th>\n      <th>work_ratings_count</th>\n      <th>work_text_reviews_count</th>\n      <th>ratings_1</th>\n      <th>ratings_2</th>\n      <th>ratings_3</th>\n      <th>ratings_4</th>\n      <th>ratings_5</th>\n    </tr>\n  </thead>\n  <tbody>\n    <tr>\n      <th>0</th>\n      <td>1</td>\n      <td>2767052</td>\n      <td>2792775</td>\n      <td>272</td>\n      <td>Suzanne Collins</td>\n      <td>2008.0</td>\n      <td>The Hunger Games</td>\n      <td>eng</td>\n      <td>4.34</td>\n      <td>4780653</td>\n      <td>4942365</td>\n      <td>155254</td>\n      <td>66715</td>\n      <td>127936</td>\n      <td>560092</td>\n      <td>1481305</td>\n      <td>2706317</td>\n    </tr>\n    <tr>\n      <th>1</th>\n      <td>2</td>\n      <td>3</td>\n      <td>4640799</td>\n      <td>491</td>\n      <td>J.K. Rowling, Mary GrandPré</td>\n      <td>1997.0</td>\n      <td>Harry Potter and the Philosopher's Stone</td>\n      <td>eng</td>\n      <td>4.44</td>\n      <td>4602479</td>\n      <td>4800065</td>\n      <td>75867</td>\n      <td>75504</td>\n      <td>101676</td>\n      <td>455024</td>\n      <td>1156318</td>\n      <td>3011543</td>\n    </tr>\n    <tr>\n      <th>2</th>\n      <td>3</td>\n      <td>41865</td>\n      <td>3212258</td>\n      <td>226</td>\n      <td>Stephenie Meyer</td>\n      <td>2005.0</td>\n      <td>Twilight</td>\n      <td>en-US</td>\n      <td>3.57</td>\n      <td>3866839</td>\n      <td>3916824</td>\n      <td>95009</td>\n      <td>456191</td>\n      <td>436802</td>\n      <td>793319</td>\n      <td>875073</td>\n      <td>1355439</td>\n    </tr>\n    <tr>\n      <th>3</th>\n      <td>4</td>\n      <td>2657</td>\n      <td>3275794</td>\n      <td>487</td>\n      <td>Harper Lee</td>\n      <td>1960.0</td>\n      <td>To Kill a Mockingbird</td>\n      <td>eng</td>\n      <td>4.25</td>\n      <td>3198671</td>\n      <td>3340896</td>\n      <td>72586</td>\n      <td>60427</td>\n      <td>117415</td>\n      <td>446835</td>\n      <td>1001952</td>\n      <td>1714267</td>\n    </tr>\n    <tr>\n      <th>4</th>\n      <td>5</td>\n      <td>4671</td>\n      <td>245494</td>\n      <td>1356</td>\n      <td>F. Scott Fitzgerald</td>\n      <td>1925.0</td>\n      <td>The Great Gatsby</td>\n      <td>eng</td>\n      <td>3.89</td>\n      <td>2683664</td>\n      <td>2773745</td>\n      <td>51992</td>\n      <td>86236</td>\n      <td>197621</td>\n      <td>606158</td>\n      <td>936012</td>\n      <td>947718</td>\n    </tr>\n  </tbody>\n</table>\n</div>"
     },
     "metadata": {},
     "execution_count": 159
    }
   ],
   "source": [
    "books = pd.read_csv('./dataset/books.csv')\n",
    "books = books.drop(['image_url', 'small_image_url', 'title', 'best_book_id', 'isbn', 'isbn13'], axis = 1)\n",
    "books.head(5)"
   ]
  },
  {
   "cell_type": "code",
   "execution_count": 161,
   "metadata": {},
   "outputs": [
    {
     "output_type": "execute_result",
     "data": {
      "text/plain": [
       "                             original_title                      authors  \\\n",
       "0                          The Hunger Games              Suzanne Collins   \n",
       "1  Harry Potter and the Philosopher's Stone  J.K. Rowling, Mary GrandPré   \n",
       "2                                  Twilight              Stephenie Meyer   \n",
       "3                     To Kill a Mockingbird                   Harper Lee   \n",
       "4                          The Great Gatsby          F. Scott Fitzgerald   \n",
       "\n",
       "  average_rating  \n",
       "0           4.34  \n",
       "1           4.44  \n",
       "2           3.57  \n",
       "3           4.25  \n",
       "4           3.89  "
      ],
      "text/html": "<div>\n<style scoped>\n    .dataframe tbody tr th:only-of-type {\n        vertical-align: middle;\n    }\n\n    .dataframe tbody tr th {\n        vertical-align: top;\n    }\n\n    .dataframe thead th {\n        text-align: right;\n    }\n</style>\n<table border=\"1\" class=\"dataframe\">\n  <thead>\n    <tr style=\"text-align: right;\">\n      <th></th>\n      <th>original_title</th>\n      <th>authors</th>\n      <th>average_rating</th>\n    </tr>\n  </thead>\n  <tbody>\n    <tr>\n      <th>0</th>\n      <td>The Hunger Games</td>\n      <td>Suzanne Collins</td>\n      <td>4.34</td>\n    </tr>\n    <tr>\n      <th>1</th>\n      <td>Harry Potter and the Philosopher's Stone</td>\n      <td>J.K. Rowling, Mary GrandPré</td>\n      <td>4.44</td>\n    </tr>\n    <tr>\n      <th>2</th>\n      <td>Twilight</td>\n      <td>Stephenie Meyer</td>\n      <td>3.57</td>\n    </tr>\n    <tr>\n      <th>3</th>\n      <td>To Kill a Mockingbird</td>\n      <td>Harper Lee</td>\n      <td>4.25</td>\n    </tr>\n    <tr>\n      <th>4</th>\n      <td>The Great Gatsby</td>\n      <td>F. Scott Fitzgerald</td>\n      <td>3.89</td>\n    </tr>\n  </tbody>\n</table>\n</div>"
     },
     "metadata": {},
     "execution_count": 161
    }
   ],
   "source": [
    "content = books[['original_title', 'authors', 'average_rating']]\n",
    "content = content.astype('str')\n",
    "content.head(5)"
   ]
  },
  {
   "cell_type": "code",
   "execution_count": 176,
   "metadata": {},
   "outputs": [],
   "source": [
    "content['content'] = content['original_title'] + ' ' + content['authors'] + ' ' + content['average_rating']\n",
    "indices = pd.Series(content.index, index=content['original_title'])"
   ]
  },
  {
   "cell_type": "code",
   "execution_count": 177,
   "metadata": {},
   "outputs": [
    {
     "output_type": "execute_result",
     "data": {
      "text/plain": [
       "(10000, 6175)"
      ]
     },
     "metadata": {},
     "execution_count": 177
    }
   ],
   "source": [
    "#removing stopwords\n",
    "tfidf = TfidfVectorizer(stop_words='english')\n",
    "\n",
    "#Construct the required TF-IDF matrix by fitting and transforming the data\n",
    "tfidf_matrix = tfidf.fit_transform(content['authors'])\n",
    "\n",
    "#Output the shape of tfidf_matrix\n",
    "tfidf_matrix.shape"
   ]
  },
  {
   "cell_type": "code",
   "execution_count": 178,
   "metadata": {},
   "outputs": [],
   "source": [
    "count = CountVectorizer(stop_words='english')\n",
    "count_matrix = count.fit_transform(content['content'])\n",
    "cosine_sim_content = cosine_similarity(count_matrix, count_matrix)"
   ]
  },
  {
   "cell_type": "code",
   "execution_count": 179,
   "metadata": {},
   "outputs": [],
   "source": [
    "def get_recommendations(title, cosine_sim=cosine_sim_content):\n",
    "    idx = indices[title]\n",
    "\n",
    "    # Get the pairwsie similarity scores of all books with that book\n",
    "    sim_scores = list(enumerate(cosine_sim_content[idx]))\n",
    "\n",
    "    # Sort the books based on the similarity scores\n",
    "    sim_scores = sorted(sim_scores, key=lambda x: x[1], reverse=True)\n",
    "\n",
    "    # Get the scores of the 10 most similar books\n",
    "    sim_scores = sim_scores[1:11]\n",
    "\n",
    "    # Get the book indices\n",
    "    book_indices = [i[0] for i in sim_scores]\n",
    "\n",
    "    # Return the top 10 most similar books\n",
    "    return list(content['original_title'].iloc[book_indices])"
   ]
  },
  {
   "cell_type": "code",
   "execution_count": 220,
   "metadata": {},
   "outputs": [],
   "source": [
    "def book_shows(book):\n",
    "    for book in book:\n",
    "        if book != 'nan':\n",
    "            print(book)"
   ]
  },
  {
   "cell_type": "code",
   "execution_count": 190,
   "metadata": {},
   "outputs": [
    {
     "output_type": "stream",
     "name": "stdout",
     "text": [
      "Harry Potter and the Goblet of Fire\nHarry Potter and the Order of the Phoenix\nHarry Potter and the Chamber of Secrets\nHarry Potter and the Deathly Hallows\nHarry Potter and the Half-Blood Prince\nHarry Potter Boxed Set Books 1-4\nHarry Potter and the Prisoner of Azkaban\nHarry Potter Collection (Harry Potter, #1-6)\nnan\nComplete Harry Potter Boxed Set\n"
     ]
    }
   ],
   "source": [
    "book_shows(get_recommendations(\"Harry Potter and the Philosopher's Stone\", cosine_sim_content))"
   ]
  },
  {
   "cell_type": "code",
   "execution_count": 189,
   "metadata": {},
   "outputs": [
    {
     "output_type": "stream",
     "name": "stdout",
     "text": [
      "Wife 22\nThe Silent Wife\nFueled\nnan\nThe Return of the King\nnan\nThe Pilot's Wife\nThe Lost Wife\nStarter for Ten\nPrince's Gambit\n"
     ]
    }
   ],
   "source": [
    "book_shows(get_recommendations('The Starter Wife', cosine_sim_content))"
   ]
  },
  {
   "cell_type": "code",
   "execution_count": 193,
   "metadata": {},
   "outputs": [
    {
     "output_type": "stream",
     "name": "stdout",
     "text": [
      "Go Set a Watchman\nGeneration Kill\nBatman (Volume 2): Hush\nThe Hobbit or There and Back Again\nOne Shot\nNever Go Back \nPersonal\nNothing to Lose\nUnhinged\nVicious\n"
     ]
    }
   ],
   "source": [
    "book_shows(get_recommendations('To Kill a Mockingbird', cosine_sim_content))"
   ]
  },
  {
   "source": [
    "#Collaborative Filtering"
   ],
   "cell_type": "markdown",
   "metadata": {}
  },
  {
   "cell_type": "code",
   "execution_count": 194,
   "metadata": {},
   "outputs": [],
   "source": [
    "reader = Reader()"
   ]
  },
  {
   "cell_type": "code",
   "execution_count": 195,
   "metadata": {},
   "outputs": [
    {
     "output_type": "execute_result",
     "data": {
      "text/plain": [
       "   book_id  user_id  rating\n",
       "0        1      314       5\n",
       "1        1      439       3\n",
       "2        1      588       5\n",
       "3        1     1169       4\n",
       "4        1     1185       4"
      ],
      "text/html": "<div>\n<style scoped>\n    .dataframe tbody tr th:only-of-type {\n        vertical-align: middle;\n    }\n\n    .dataframe tbody tr th {\n        vertical-align: top;\n    }\n\n    .dataframe thead th {\n        text-align: right;\n    }\n</style>\n<table border=\"1\" class=\"dataframe\">\n  <thead>\n    <tr style=\"text-align: right;\">\n      <th></th>\n      <th>book_id</th>\n      <th>user_id</th>\n      <th>rating</th>\n    </tr>\n  </thead>\n  <tbody>\n    <tr>\n      <th>0</th>\n      <td>1</td>\n      <td>314</td>\n      <td>5</td>\n    </tr>\n    <tr>\n      <th>1</th>\n      <td>1</td>\n      <td>439</td>\n      <td>3</td>\n    </tr>\n    <tr>\n      <th>2</th>\n      <td>1</td>\n      <td>588</td>\n      <td>5</td>\n    </tr>\n    <tr>\n      <th>3</th>\n      <td>1</td>\n      <td>1169</td>\n      <td>4</td>\n    </tr>\n    <tr>\n      <th>4</th>\n      <td>1</td>\n      <td>1185</td>\n      <td>4</td>\n    </tr>\n  </tbody>\n</table>\n</div>"
     },
     "metadata": {},
     "execution_count": 195
    }
   ],
   "source": [
    "ratings = pd.read_csv('./dataset/ratings.csv')\n",
    "ratings.head(5)"
   ]
  },
  {
   "cell_type": "code",
   "execution_count": 51,
   "metadata": {},
   "outputs": [
    {
     "output_type": "stream",
     "name": "stdout",
     "text": [
      "Evaluating RMSE, MAE of algorithm SVD on 5 split(s).\n\n                  Fold 1  Fold 2  Fold 3  Fold 4  Fold 5  Mean    Std     \nRMSE (testset)    0.8440  0.8436  0.8448  0.8423  0.8421  0.8434  0.0010  \nMAE (testset)     0.6602  0.6595  0.6611  0.6589  0.6580  0.6595  0.0011  \nFit time          137.84  136.44  129.87  153.33  117.58  135.01  11.63   \nTest time         5.08    4.50    4.45    5.40    4.58    4.80    0.37    \n"
     ]
    },
    {
     "output_type": "execute_result",
     "data": {
      "text/plain": [
       "{'test_rmse': array([0.84403084, 0.84360665, 0.84478745, 0.84229498, 0.84206043]),\n",
       " 'test_mae': array([0.6602343 , 0.65952864, 0.66107256, 0.6588754 , 0.65801519]),\n",
       " 'fit_time': (137.84285855293274,\n",
       "  136.4438772201538,\n",
       "  129.86659622192383,\n",
       "  153.3289396762848,\n",
       "  117.58158040046692),\n",
       " 'test_time': (5.07884407043457,\n",
       "  4.4980247020721436,\n",
       "  4.447017431259155,\n",
       "  5.396587610244751,\n",
       "  4.583525657653809)}"
      ]
     },
     "metadata": {},
     "execution_count": 51
    }
   ],
   "source": [
    "data = Dataset.load_from_df(ratings[['book_id', 'user_id', 'rating']], reader)\n",
    "svd = SVD()\n",
    "cross_validate(svd, data, measures=['RMSE', 'MAE'], cv=5, verbose=True)"
   ]
  },
  {
   "cell_type": "code",
   "execution_count": 52,
   "metadata": {},
   "outputs": [
    {
     "output_type": "execute_result",
     "data": {
      "text/plain": [
       "<surprise.prediction_algorithms.matrix_factorization.SVD at 0x2361fefaeb0>"
      ]
     },
     "metadata": {},
     "execution_count": 52
    }
   ],
   "source": [
    "trainset = data.build_full_trainset()\n",
    "svd.fit(trainset)"
   ]
  },
  {
   "cell_type": "code",
   "execution_count": 54,
   "metadata": {},
   "outputs": [
    {
     "output_type": "execute_result",
     "data": {
      "text/plain": [
       "        book_id  user_id  rating\n",
       "117889     1180        1       4\n",
       "488112     4893        1       3\n",
       "625717     6285        1       4"
      ],
      "text/html": "<div>\n<style scoped>\n    .dataframe tbody tr th:only-of-type {\n        vertical-align: middle;\n    }\n\n    .dataframe tbody tr th {\n        vertical-align: top;\n    }\n\n    .dataframe thead th {\n        text-align: right;\n    }\n</style>\n<table border=\"1\" class=\"dataframe\">\n  <thead>\n    <tr style=\"text-align: right;\">\n      <th></th>\n      <th>book_id</th>\n      <th>user_id</th>\n      <th>rating</th>\n    </tr>\n  </thead>\n  <tbody>\n    <tr>\n      <th>117889</th>\n      <td>1180</td>\n      <td>1</td>\n      <td>4</td>\n    </tr>\n    <tr>\n      <th>488112</th>\n      <td>4893</td>\n      <td>1</td>\n      <td>3</td>\n    </tr>\n    <tr>\n      <th>625717</th>\n      <td>6285</td>\n      <td>1</td>\n      <td>4</td>\n    </tr>\n  </tbody>\n</table>\n</div>"
     },
     "metadata": {},
     "execution_count": 54
    }
   ],
   "source": [
    "ratings[ratings['user_id'] == 1]"
   ]
  },
  {
   "cell_type": "code",
   "execution_count": 234,
   "metadata": {},
   "outputs": [
    {
     "output_type": "execute_result",
     "data": {
      "text/plain": [
       "    book_id  user_id  rating\n",
       "0         1      314       5\n",
       "1         1      439       3\n",
       "2         1      588       5\n",
       "3         1     1169       4\n",
       "4         1     1185       4\n",
       "..      ...      ...     ...\n",
       "95        1    51460       3\n",
       "96        1    51480       1\n",
       "97        1    51838       5\n",
       "98        1    52036       2\n",
       "99        1    53245       4\n",
       "\n",
       "[100 rows x 3 columns]"
      ],
      "text/html": "<div>\n<style scoped>\n    .dataframe tbody tr th:only-of-type {\n        vertical-align: middle;\n    }\n\n    .dataframe tbody tr th {\n        vertical-align: top;\n    }\n\n    .dataframe thead th {\n        text-align: right;\n    }\n</style>\n<table border=\"1\" class=\"dataframe\">\n  <thead>\n    <tr style=\"text-align: right;\">\n      <th></th>\n      <th>book_id</th>\n      <th>user_id</th>\n      <th>rating</th>\n    </tr>\n  </thead>\n  <tbody>\n    <tr>\n      <th>0</th>\n      <td>1</td>\n      <td>314</td>\n      <td>5</td>\n    </tr>\n    <tr>\n      <th>1</th>\n      <td>1</td>\n      <td>439</td>\n      <td>3</td>\n    </tr>\n    <tr>\n      <th>2</th>\n      <td>1</td>\n      <td>588</td>\n      <td>5</td>\n    </tr>\n    <tr>\n      <th>3</th>\n      <td>1</td>\n      <td>1169</td>\n      <td>4</td>\n    </tr>\n    <tr>\n      <th>4</th>\n      <td>1</td>\n      <td>1185</td>\n      <td>4</td>\n    </tr>\n    <tr>\n      <th>...</th>\n      <td>...</td>\n      <td>...</td>\n      <td>...</td>\n    </tr>\n    <tr>\n      <th>95</th>\n      <td>1</td>\n      <td>51460</td>\n      <td>3</td>\n    </tr>\n    <tr>\n      <th>96</th>\n      <td>1</td>\n      <td>51480</td>\n      <td>1</td>\n    </tr>\n    <tr>\n      <th>97</th>\n      <td>1</td>\n      <td>51838</td>\n      <td>5</td>\n    </tr>\n    <tr>\n      <th>98</th>\n      <td>1</td>\n      <td>52036</td>\n      <td>2</td>\n    </tr>\n    <tr>\n      <th>99</th>\n      <td>1</td>\n      <td>53245</td>\n      <td>4</td>\n    </tr>\n  </tbody>\n</table>\n<p>100 rows × 3 columns</p>\n</div>"
     },
     "metadata": {},
     "execution_count": 234
    }
   ],
   "source": [
    "ratings[ratings['book_id'] == 1]"
   ]
  },
  {
   "cell_type": "code",
   "execution_count": 56,
   "metadata": {},
   "outputs": [
    {
     "output_type": "execute_result",
     "data": {
      "text/plain": [
       "Prediction(uid=1, iid=240, r_ui=4, est=4.358400241274715, details={'was_impossible': False})"
      ]
     },
     "metadata": {},
     "execution_count": 56
    }
   ],
   "source": [
    "svd.predict(1, 240, 4)"
   ]
  },
  {
   "source": [
    "#Hybrid Filtering"
   ],
   "cell_type": "markdown",
   "metadata": {}
  },
  {
   "cell_type": "code",
   "execution_count": 196,
   "metadata": {},
   "outputs": [],
   "source": [
    "def convert_int(x):\n",
    "    try:\n",
    "        return int(x)\n",
    "    except:\n",
    "        return np.nan"
   ]
  },
  {
   "cell_type": "code",
   "execution_count": 202,
   "metadata": {},
   "outputs": [
    {
     "output_type": "execute_result",
     "data": {
      "text/plain": [
       "                                                    book_id   work_id\n",
       "original_title                                                       \n",
       "The Hunger Games                                    2767052   2792775\n",
       "Harry Potter and the Philosopher's Stone                  3   4640799\n",
       "Twilight                                              41865   3212258\n",
       "To Kill a Mockingbird                                  2657   3275794\n",
       "The Great Gatsby                                       4671    245494\n",
       "...                                                     ...       ...\n",
       "Bayou Moon                                          7130616   7392860\n",
       "Means of Ascent                                      208324   1084709\n",
       "The Mauritius Command                                 77431   2393986\n",
       "Cinderella Ate My Daughter: Dispatches from the...  8565083  13433613\n",
       "The First World War                                    8914     11817\n",
       "\n",
       "[10000 rows x 2 columns]"
      ],
      "text/html": "<div>\n<style scoped>\n    .dataframe tbody tr th:only-of-type {\n        vertical-align: middle;\n    }\n\n    .dataframe tbody tr th {\n        vertical-align: top;\n    }\n\n    .dataframe thead th {\n        text-align: right;\n    }\n</style>\n<table border=\"1\" class=\"dataframe\">\n  <thead>\n    <tr style=\"text-align: right;\">\n      <th></th>\n      <th>book_id</th>\n      <th>work_id</th>\n    </tr>\n    <tr>\n      <th>original_title</th>\n      <th></th>\n      <th></th>\n    </tr>\n  </thead>\n  <tbody>\n    <tr>\n      <th>The Hunger Games</th>\n      <td>2767052</td>\n      <td>2792775</td>\n    </tr>\n    <tr>\n      <th>Harry Potter and the Philosopher's Stone</th>\n      <td>3</td>\n      <td>4640799</td>\n    </tr>\n    <tr>\n      <th>Twilight</th>\n      <td>41865</td>\n      <td>3212258</td>\n    </tr>\n    <tr>\n      <th>To Kill a Mockingbird</th>\n      <td>2657</td>\n      <td>3275794</td>\n    </tr>\n    <tr>\n      <th>The Great Gatsby</th>\n      <td>4671</td>\n      <td>245494</td>\n    </tr>\n    <tr>\n      <th>...</th>\n      <td>...</td>\n      <td>...</td>\n    </tr>\n    <tr>\n      <th>Bayou Moon</th>\n      <td>7130616</td>\n      <td>7392860</td>\n    </tr>\n    <tr>\n      <th>Means of Ascent</th>\n      <td>208324</td>\n      <td>1084709</td>\n    </tr>\n    <tr>\n      <th>The Mauritius Command</th>\n      <td>77431</td>\n      <td>2393986</td>\n    </tr>\n    <tr>\n      <th>Cinderella Ate My Daughter: Dispatches from the Frontlines of the New Girlie-Girl Culture</th>\n      <td>8565083</td>\n      <td>13433613</td>\n    </tr>\n    <tr>\n      <th>The First World War</th>\n      <td>8914</td>\n      <td>11817</td>\n    </tr>\n  </tbody>\n</table>\n<p>10000 rows × 2 columns</p>\n</div>"
     },
     "metadata": {},
     "execution_count": 202
    }
   ],
   "source": [
    "id_map = pd.read_csv('./dataset/books.csv')[['book_id', 'work_id']]\n",
    "id_map['work_id'] = id_map['work_id'].apply(convert_int)\n",
    "id_map = id_map.merge(books[['original_title', 'work_id']], on='work_id').set_index('original_title')\n",
    "id_map"
   ]
  },
  {
   "cell_type": "code",
   "execution_count": 204,
   "metadata": {},
   "outputs": [
    {
     "output_type": "execute_result",
     "data": {
      "text/plain": [
       "          book_id\n",
       "work_id          \n",
       "2792775   2767052\n",
       "4640799         3\n",
       "3212258     41865\n",
       "3275794      2657\n",
       "245494       4671\n",
       "...           ...\n",
       "7392860   7130616\n",
       "1084709    208324\n",
       "2393986     77431\n",
       "13433613  8565083\n",
       "11817        8914\n",
       "\n",
       "[10000 rows x 1 columns]"
      ],
      "text/html": "<div>\n<style scoped>\n    .dataframe tbody tr th:only-of-type {\n        vertical-align: middle;\n    }\n\n    .dataframe tbody tr th {\n        vertical-align: top;\n    }\n\n    .dataframe thead th {\n        text-align: right;\n    }\n</style>\n<table border=\"1\" class=\"dataframe\">\n  <thead>\n    <tr style=\"text-align: right;\">\n      <th></th>\n      <th>book_id</th>\n    </tr>\n    <tr>\n      <th>work_id</th>\n      <th></th>\n    </tr>\n  </thead>\n  <tbody>\n    <tr>\n      <th>2792775</th>\n      <td>2767052</td>\n    </tr>\n    <tr>\n      <th>4640799</th>\n      <td>3</td>\n    </tr>\n    <tr>\n      <th>3212258</th>\n      <td>41865</td>\n    </tr>\n    <tr>\n      <th>3275794</th>\n      <td>2657</td>\n    </tr>\n    <tr>\n      <th>245494</th>\n      <td>4671</td>\n    </tr>\n    <tr>\n      <th>...</th>\n      <td>...</td>\n    </tr>\n    <tr>\n      <th>7392860</th>\n      <td>7130616</td>\n    </tr>\n    <tr>\n      <th>1084709</th>\n      <td>208324</td>\n    </tr>\n    <tr>\n      <th>2393986</th>\n      <td>77431</td>\n    </tr>\n    <tr>\n      <th>13433613</th>\n      <td>8565083</td>\n    </tr>\n    <tr>\n      <th>11817</th>\n      <td>8914</td>\n    </tr>\n  </tbody>\n</table>\n<p>10000 rows × 1 columns</p>\n</div>"
     },
     "metadata": {},
     "execution_count": 204
    }
   ],
   "source": [
    "indices_map = id_map.set_index('work_id')\n",
    "indices_map"
   ]
  },
  {
   "cell_type": "code",
   "execution_count": 241,
   "metadata": {},
   "outputs": [],
   "source": [
    "def hybrid(userId, title):\n",
    "    idx = indices[title]\n",
    "    work_id = id_map.loc[title]['work_id']\n",
    "    book_id = id_map.loc[title]['book_id']\n",
    "    \n",
    "    sim_scores = list(enumerate(cosine_sim_content[int(idx)]))\n",
    "    sim_scores = sorted(sim_scores, key=lambda x: x[1], reverse=True)\n",
    "    sim_scores = sim_scores[1:26]\n",
    "    book_indices = [i[0] for i in sim_scores]\n",
    "    \n",
    "    buks = books.iloc[book_indices][['original_title', 'authors', 'work_id']]\n",
    "    buks['est'] = buks['work_id'].apply(lambda x: svd.predict(userId, indices_map.loc[x]['book_id']).est)\n",
    "    buks = buks.sort_values('est', ascending=False)\n",
    "    return buks.head(10)"
   ]
  },
  {
   "cell_type": "code",
   "execution_count": 231,
   "metadata": {},
   "outputs": [
    {
     "output_type": "execute_result",
     "data": {
      "text/plain": [
       "                                         original_title  \\\n",
       "20            Harry Potter and the Order of the Phoenix   \n",
       "2077               The Complete Tales of Beatrix Potter   \n",
       "22              Harry Potter and the Chamber of Secrets   \n",
       "17             Harry Potter and the Prisoner of Azkaban   \n",
       "23                  Harry Potter and the Goblet of Fire   \n",
       "9282  Harry Potter and Philosophy: If Aristotle Ran ...   \n",
       "9204                                   Half Blood Blues   \n",
       "2168                                    What Do You Do?   \n",
       "3735  Harry Potter Page to Screen: The Complete Film...   \n",
       "3053  Harry Potter and the Chamber of Secrets: Sheet...   \n",
       "\n",
       "                                      authors   work_id       est  \n",
       "20                J.K. Rowling, Mary GrandPré   2809203  4.024790  \n",
       "2077                           Beatrix Potter   1139913  4.023151  \n",
       "22                J.K. Rowling, Mary GrandPré   6231171  4.016759  \n",
       "17    J.K. Rowling, Mary GrandPré, Rufus Beck   2402163  3.986064  \n",
       "23                J.K. Rowling, Mary GrandPré   3046572  3.976007  \n",
       "9282            David Baggett, Shawn E. Klein     32035  3.880341  \n",
       "9204                              Esi Edugyan  15997604  3.856534  \n",
       "2168                            Gillian Flynn  45948939  3.856534  \n",
       "3735                               Bob McCabe  15697851  3.856534  \n",
       "3053                          John   Williams    498223  3.856534  "
      ],
      "text/html": "<div>\n<style scoped>\n    .dataframe tbody tr th:only-of-type {\n        vertical-align: middle;\n    }\n\n    .dataframe tbody tr th {\n        vertical-align: top;\n    }\n\n    .dataframe thead th {\n        text-align: right;\n    }\n</style>\n<table border=\"1\" class=\"dataframe\">\n  <thead>\n    <tr style=\"text-align: right;\">\n      <th></th>\n      <th>original_title</th>\n      <th>authors</th>\n      <th>work_id</th>\n      <th>est</th>\n    </tr>\n  </thead>\n  <tbody>\n    <tr>\n      <th>20</th>\n      <td>Harry Potter and the Order of the Phoenix</td>\n      <td>J.K. Rowling, Mary GrandPré</td>\n      <td>2809203</td>\n      <td>4.024790</td>\n    </tr>\n    <tr>\n      <th>2077</th>\n      <td>The Complete Tales of Beatrix Potter</td>\n      <td>Beatrix Potter</td>\n      <td>1139913</td>\n      <td>4.023151</td>\n    </tr>\n    <tr>\n      <th>22</th>\n      <td>Harry Potter and the Chamber of Secrets</td>\n      <td>J.K. Rowling, Mary GrandPré</td>\n      <td>6231171</td>\n      <td>4.016759</td>\n    </tr>\n    <tr>\n      <th>17</th>\n      <td>Harry Potter and the Prisoner of Azkaban</td>\n      <td>J.K. Rowling, Mary GrandPré, Rufus Beck</td>\n      <td>2402163</td>\n      <td>3.986064</td>\n    </tr>\n    <tr>\n      <th>23</th>\n      <td>Harry Potter and the Goblet of Fire</td>\n      <td>J.K. Rowling, Mary GrandPré</td>\n      <td>3046572</td>\n      <td>3.976007</td>\n    </tr>\n    <tr>\n      <th>9282</th>\n      <td>Harry Potter and Philosophy: If Aristotle Ran ...</td>\n      <td>David Baggett, Shawn E. Klein</td>\n      <td>32035</td>\n      <td>3.880341</td>\n    </tr>\n    <tr>\n      <th>9204</th>\n      <td>Half Blood Blues</td>\n      <td>Esi Edugyan</td>\n      <td>15997604</td>\n      <td>3.856534</td>\n    </tr>\n    <tr>\n      <th>2168</th>\n      <td>What Do You Do?</td>\n      <td>Gillian Flynn</td>\n      <td>45948939</td>\n      <td>3.856534</td>\n    </tr>\n    <tr>\n      <th>3735</th>\n      <td>Harry Potter Page to Screen: The Complete Film...</td>\n      <td>Bob McCabe</td>\n      <td>15697851</td>\n      <td>3.856534</td>\n    </tr>\n    <tr>\n      <th>3053</th>\n      <td>Harry Potter and the Chamber of Secrets: Sheet...</td>\n      <td>John   Williams</td>\n      <td>498223</td>\n      <td>3.856534</td>\n    </tr>\n  </tbody>\n</table>\n</div>"
     },
     "metadata": {},
     "execution_count": 231
    }
   ],
   "source": [
    "hybrid(10944, \"Harry Potter and the Half-Blood Prince\")"
   ]
  },
  {
   "cell_type": "code",
   "execution_count": 235,
   "metadata": {},
   "outputs": [
    {
     "output_type": "execute_result",
     "data": {
      "text/plain": [
       "                                         original_title  \\\n",
       "20            Harry Potter and the Order of the Phoenix   \n",
       "2077               The Complete Tales of Beatrix Potter   \n",
       "22              Harry Potter and the Chamber of Secrets   \n",
       "17             Harry Potter and the Prisoner of Azkaban   \n",
       "23                  Harry Potter and the Goblet of Fire   \n",
       "9282  Harry Potter and Philosophy: If Aristotle Ran ...   \n",
       "9204                                   Half Blood Blues   \n",
       "2168                                    What Do You Do?   \n",
       "3735  Harry Potter Page to Screen: The Complete Film...   \n",
       "3053  Harry Potter and the Chamber of Secrets: Sheet...   \n",
       "\n",
       "                                      authors   work_id       est  \n",
       "20                J.K. Rowling, Mary GrandPré   2809203  4.024790  \n",
       "2077                           Beatrix Potter   1139913  4.023151  \n",
       "22                J.K. Rowling, Mary GrandPré   6231171  4.016759  \n",
       "17    J.K. Rowling, Mary GrandPré, Rufus Beck   2402163  3.986064  \n",
       "23                J.K. Rowling, Mary GrandPré   3046572  3.976007  \n",
       "9282            David Baggett, Shawn E. Klein     32035  3.880341  \n",
       "9204                              Esi Edugyan  15997604  3.856534  \n",
       "2168                            Gillian Flynn  45948939  3.856534  \n",
       "3735                               Bob McCabe  15697851  3.856534  \n",
       "3053                          John   Williams    498223  3.856534  "
      ],
      "text/html": "<div>\n<style scoped>\n    .dataframe tbody tr th:only-of-type {\n        vertical-align: middle;\n    }\n\n    .dataframe tbody tr th {\n        vertical-align: top;\n    }\n\n    .dataframe thead th {\n        text-align: right;\n    }\n</style>\n<table border=\"1\" class=\"dataframe\">\n  <thead>\n    <tr style=\"text-align: right;\">\n      <th></th>\n      <th>original_title</th>\n      <th>authors</th>\n      <th>work_id</th>\n      <th>est</th>\n    </tr>\n  </thead>\n  <tbody>\n    <tr>\n      <th>20</th>\n      <td>Harry Potter and the Order of the Phoenix</td>\n      <td>J.K. Rowling, Mary GrandPré</td>\n      <td>2809203</td>\n      <td>4.024790</td>\n    </tr>\n    <tr>\n      <th>2077</th>\n      <td>The Complete Tales of Beatrix Potter</td>\n      <td>Beatrix Potter</td>\n      <td>1139913</td>\n      <td>4.023151</td>\n    </tr>\n    <tr>\n      <th>22</th>\n      <td>Harry Potter and the Chamber of Secrets</td>\n      <td>J.K. Rowling, Mary GrandPré</td>\n      <td>6231171</td>\n      <td>4.016759</td>\n    </tr>\n    <tr>\n      <th>17</th>\n      <td>Harry Potter and the Prisoner of Azkaban</td>\n      <td>J.K. Rowling, Mary GrandPré, Rufus Beck</td>\n      <td>2402163</td>\n      <td>3.986064</td>\n    </tr>\n    <tr>\n      <th>23</th>\n      <td>Harry Potter and the Goblet of Fire</td>\n      <td>J.K. Rowling, Mary GrandPré</td>\n      <td>3046572</td>\n      <td>3.976007</td>\n    </tr>\n    <tr>\n      <th>9282</th>\n      <td>Harry Potter and Philosophy: If Aristotle Ran ...</td>\n      <td>David Baggett, Shawn E. Klein</td>\n      <td>32035</td>\n      <td>3.880341</td>\n    </tr>\n    <tr>\n      <th>9204</th>\n      <td>Half Blood Blues</td>\n      <td>Esi Edugyan</td>\n      <td>15997604</td>\n      <td>3.856534</td>\n    </tr>\n    <tr>\n      <th>2168</th>\n      <td>What Do You Do?</td>\n      <td>Gillian Flynn</td>\n      <td>45948939</td>\n      <td>3.856534</td>\n    </tr>\n    <tr>\n      <th>3735</th>\n      <td>Harry Potter Page to Screen: The Complete Film...</td>\n      <td>Bob McCabe</td>\n      <td>15697851</td>\n      <td>3.856534</td>\n    </tr>\n    <tr>\n      <th>3053</th>\n      <td>Harry Potter and the Chamber of Secrets: Sheet...</td>\n      <td>John   Williams</td>\n      <td>498223</td>\n      <td>3.856534</td>\n    </tr>\n  </tbody>\n</table>\n</div>"
     },
     "metadata": {},
     "execution_count": 235
    }
   ],
   "source": [
    "hybrid(51480, \"Harry Potter and the Half-Blood Prince\")"
   ]
  },
  {
   "cell_type": "code",
   "execution_count": 225,
   "metadata": {},
   "outputs": [
    {
     "output_type": "stream",
     "name": "stdout",
     "text": [
      "Four: A Divergent Collection\nFour: The Initiate\nFree Four: Tobias Tells the Divergent Story\nInsurgent\nAllegiant\nFour: The Transfer\n"
     ]
    }
   ],
   "source": [
    "book_shows(get_recommendations(\"Divergent\", cosine_sim_content))"
   ]
  },
  {
   "cell_type": "code",
   "execution_count": null,
   "metadata": {},
   "outputs": [],
   "source": []
  }
 ]
}